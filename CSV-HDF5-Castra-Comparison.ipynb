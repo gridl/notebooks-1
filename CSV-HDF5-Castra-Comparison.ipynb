{
 "cells": [
  {
   "cell_type": "markdown",
   "metadata": {},
   "source": [
    "Compare CSV and Castra speeds with artificial data\n",
    "=============================\n",
    "\n",
    "In this notebook we create a fake dataset, store it in CSV, HDF5, and Castra and look at read/write performance differences."
   ]
  },
  {
   "cell_type": "markdown",
   "metadata": {},
   "source": [
    "### Artificial dataset"
   ]
  },
  {
   "cell_type": "code",
   "execution_count": 1,
   "metadata": {
    "collapsed": false
   },
   "outputs": [
    {
     "data": {
      "text/html": [
       "<div>\n",
       "<table border=\"1\" class=\"dataframe\">\n",
       "  <thead>\n",
       "    <tr style=\"text-align: right;\">\n",
       "      <th></th>\n",
       "      <th>A</th>\n",
       "      <th>B</th>\n",
       "      <th>C</th>\n",
       "      <th>D</th>\n",
       "      <th>id</th>\n",
       "      <th>name</th>\n",
       "      <th>volume</th>\n",
       "    </tr>\n",
       "  </thead>\n",
       "  <tbody>\n",
       "    <tr>\n",
       "      <th>2000-01-31 00:00:00</th>\n",
       "      <td>0.897725</td>\n",
       "      <td>-0.543282</td>\n",
       "      <td>-0.618194</td>\n",
       "      <td>-0.542592</td>\n",
       "      <td>1061</td>\n",
       "      <td>Victor</td>\n",
       "      <td>964</td>\n",
       "    </tr>\n",
       "    <tr>\n",
       "      <th>2000-01-31 00:00:10</th>\n",
       "      <td>-0.710055</td>\n",
       "      <td>-0.575592</td>\n",
       "      <td>-0.530583</td>\n",
       "      <td>-0.617038</td>\n",
       "      <td>1011</td>\n",
       "      <td>Ursula</td>\n",
       "      <td>973</td>\n",
       "    </tr>\n",
       "    <tr>\n",
       "      <th>2000-01-31 00:00:20</th>\n",
       "      <td>0.561353</td>\n",
       "      <td>-0.602298</td>\n",
       "      <td>-0.712850</td>\n",
       "      <td>0.331397</td>\n",
       "      <td>989</td>\n",
       "      <td>Sarah</td>\n",
       "      <td>996</td>\n",
       "    </tr>\n",
       "    <tr>\n",
       "      <th>2000-01-31 00:00:30</th>\n",
       "      <td>-0.320206</td>\n",
       "      <td>0.525118</td>\n",
       "      <td>0.936817</td>\n",
       "      <td>0.903456</td>\n",
       "      <td>1013</td>\n",
       "      <td>Wendy</td>\n",
       "      <td>974</td>\n",
       "    </tr>\n",
       "    <tr>\n",
       "      <th>2000-01-31 00:00:40</th>\n",
       "      <td>0.524895</td>\n",
       "      <td>-0.952178</td>\n",
       "      <td>0.464947</td>\n",
       "      <td>-0.430365</td>\n",
       "      <td>1057</td>\n",
       "      <td>Bob</td>\n",
       "      <td>965</td>\n",
       "    </tr>\n",
       "  </tbody>\n",
       "</table>\n",
       "</div>"
      ],
      "text/plain": [
       "                            A         B         C         D    id    name  \\\n",
       "2000-01-31 00:00:00  0.897725 -0.543282 -0.618194 -0.542592  1061  Victor   \n",
       "2000-01-31 00:00:10 -0.710055 -0.575592 -0.530583 -0.617038  1011  Ursula   \n",
       "2000-01-31 00:00:20  0.561353 -0.602298 -0.712850  0.331397   989   Sarah   \n",
       "2000-01-31 00:00:30 -0.320206  0.525118  0.936817  0.903456  1013   Wendy   \n",
       "2000-01-31 00:00:40  0.524895 -0.952178  0.464947 -0.430365  1057     Bob   \n",
       "\n",
       "                     volume  \n",
       "2000-01-31 00:00:00     964  \n",
       "2000-01-31 00:00:10     973  \n",
       "2000-01-31 00:00:20     996  \n",
       "2000-01-31 00:00:30     974  \n",
       "2000-01-31 00:00:40     965  "
      ]
     },
     "execution_count": 1,
     "metadata": {},
     "output_type": "execute_result"
    }
   ],
   "source": [
    "import dask.dataframe as dd\n",
    "\n",
    "df = dd.demo.make_timeseries('2000', '2015', {'A': float, 'B': float, 'C': float, 'D': float,\n",
    "                                              'volume': int, 'id': int, \n",
    "                                              'name': str},\n",
    "                             freq='10s', partition_freq='3M')\n",
    "\n",
    "df.head()"
   ]
  },
  {
   "cell_type": "markdown",
   "metadata": {},
   "source": [
    "### Set up ProgressBar\n",
    "\n",
    "This lets us time operations and watch our progress"
   ]
  },
  {
   "cell_type": "code",
   "execution_count": 2,
   "metadata": {
    "collapsed": true
   },
   "outputs": [],
   "source": [
    "from dask.diagnostics import ProgressBar\n",
    "pbar = ProgressBar()\n",
    "pbar.register()      # turn it on globally"
   ]
  },
  {
   "cell_type": "code",
   "execution_count": 3,
   "metadata": {
    "collapsed": true
   },
   "outputs": [],
   "source": [
    "# pbar.unregister()  # turn it off"
   ]
  },
  {
   "cell_type": "markdown",
   "metadata": {},
   "source": [
    "### Write speeds"
   ]
  },
  {
   "cell_type": "code",
   "execution_count": 4,
   "metadata": {
    "collapsed": false
   },
   "outputs": [],
   "source": [
    "!rm -f myfile.csv\n",
    "!rm -f myfile.hdf5\n",
    "!rm -rf myfile.castra\n",
    "!rm -rf myfile-categories.castra\n",
    "!ls"
   ]
  },
  {
   "cell_type": "code",
   "execution_count": 6,
   "metadata": {
    "collapsed": false
   },
   "outputs": [
    {
     "name": "stdout",
     "output_type": "stream",
     "text": [
      "[########################################] | 100% Completed |  4min 15.5s\n"
     ]
    }
   ],
   "source": [
    "df.to_csv('myfile.csv')"
   ]
  },
  {
   "cell_type": "code",
   "execution_count": 7,
   "metadata": {
    "collapsed": false
   },
   "outputs": [
    {
     "name": "stdout",
     "output_type": "stream",
     "text": [
      "[########################################] | 100% Completed | 47.5s\n"
     ]
    }
   ],
   "source": [
    "df.to_hdf('myfile.hdf5', '/data')"
   ]
  },
  {
   "cell_type": "code",
   "execution_count": 8,
   "metadata": {
    "collapsed": false
   },
   "outputs": [
    {
     "name": "stdout",
     "output_type": "stream",
     "text": [
      "[########################################] | 100% Completed | 29.5s\n"
     ]
    },
    {
     "data": {
      "text/plain": [
       "<castra.core.Castra at 0x7fa4e0ee8610>"
      ]
     },
     "execution_count": 8,
     "metadata": {},
     "output_type": "execute_result"
    }
   ],
   "source": [
    "df.to_castra('myfile.castra')"
   ]
  },
  {
   "cell_type": "code",
   "execution_count": 9,
   "metadata": {
    "collapsed": false
   },
   "outputs": [
    {
     "name": "stdout",
     "output_type": "stream",
     "text": [
      "4.3G\tmyfile.csv\r\n"
     ]
    }
   ],
   "source": [
    "!du -h myfile.csv"
   ]
  },
  {
   "cell_type": "code",
   "execution_count": 10,
   "metadata": {
    "collapsed": false
   },
   "outputs": [
    {
     "name": "stdout",
     "output_type": "stream",
     "text": [
      "2.9G\tmyfile.hdf5\r\n"
     ]
    }
   ],
   "source": [
    "!du -h myfile.hdf5"
   ]
  },
  {
   "cell_type": "code",
   "execution_count": 11,
   "metadata": {
    "collapsed": false
   },
   "outputs": [
    {
     "name": "stdout",
     "output_type": "stream",
     "text": [
      "1.8G\tmyfile.castra\r\n"
     ]
    }
   ],
   "source": [
    "!du -hs myfile.castra"
   ]
  },
  {
   "cell_type": "markdown",
   "metadata": {},
   "source": [
    "### Read speeds:  Full table read"
   ]
  },
  {
   "cell_type": "code",
   "execution_count": 12,
   "metadata": {
    "collapsed": false
   },
   "outputs": [],
   "source": [
    "csv = dd.read_csv('myfile.csv')\n",
    "hdf = dd.read_hdf('myfile.hdf5', '/data')\n",
    "castra = dd.from_castra('myfile.castra')"
   ]
  },
  {
   "cell_type": "code",
   "execution_count": 13,
   "metadata": {
    "collapsed": false
   },
   "outputs": [
    {
     "name": "stdout",
     "output_type": "stream",
     "text": [
      "[########################################] | 100% Completed |  1min  5.1s\n"
     ]
    },
    {
     "data": {
      "text/plain": [
       "46543739"
      ]
     },
     "execution_count": 13,
     "metadata": {},
     "output_type": "execute_result"
    }
   ],
   "source": [
    "len(csv)"
   ]
  },
  {
   "cell_type": "code",
   "execution_count": 14,
   "metadata": {
    "collapsed": false
   },
   "outputs": [
    {
     "name": "stdout",
     "output_type": "stream",
     "text": [
      "[########################################] | 100% Completed | 15.1s\n"
     ]
    },
    {
     "data": {
      "text/plain": [
       "46543739"
      ]
     },
     "execution_count": 14,
     "metadata": {},
     "output_type": "execute_result"
    }
   ],
   "source": [
    "len(hdf)"
   ]
  },
  {
   "cell_type": "code",
   "execution_count": 15,
   "metadata": {
    "collapsed": false
   },
   "outputs": [
    {
     "name": "stdout",
     "output_type": "stream",
     "text": [
      "[########################################] | 100% Completed | 45.8s\n"
     ]
    },
    {
     "data": {
      "text/plain": [
       "46543739"
      ]
     },
     "execution_count": 15,
     "metadata": {},
     "output_type": "execute_result"
    }
   ],
   "source": [
    "len(castra)"
   ]
  },
  {
   "cell_type": "markdown",
   "metadata": {},
   "source": [
    "### Read speeds: single column and compuation"
   ]
  },
  {
   "cell_type": "code",
   "execution_count": 16,
   "metadata": {
    "collapsed": false
   },
   "outputs": [
    {
     "name": "stdout",
     "output_type": "stream",
     "text": [
      "[########################################] | 100% Completed |  1min 12.5s\n"
     ]
    },
    {
     "data": {
      "text/plain": [
       "999.99482512567374"
      ]
     },
     "execution_count": 16,
     "metadata": {},
     "output_type": "execute_result"
    }
   ],
   "source": [
    "csv.volume.mean().compute()"
   ]
  },
  {
   "cell_type": "code",
   "execution_count": 17,
   "metadata": {
    "collapsed": false
   },
   "outputs": [
    {
     "name": "stdout",
     "output_type": "stream",
     "text": [
      "[########################################] | 100% Completed | 15.9s\n"
     ]
    },
    {
     "data": {
      "text/plain": [
       "999.99482512567374"
      ]
     },
     "execution_count": 17,
     "metadata": {},
     "output_type": "execute_result"
    }
   ],
   "source": [
    "hdf.volume.mean().compute()"
   ]
  },
  {
   "cell_type": "code",
   "execution_count": 18,
   "metadata": {
    "collapsed": false
   },
   "outputs": [
    {
     "name": "stdout",
     "output_type": "stream",
     "text": [
      "[########################################] | 100% Completed |  0.8s\n"
     ]
    },
    {
     "data": {
      "text/plain": [
       "999.99482512567374"
      ]
     },
     "execution_count": 18,
     "metadata": {},
     "output_type": "execute_result"
    }
   ],
   "source": [
    "castra.volume.mean().compute()"
   ]
  },
  {
   "cell_type": "markdown",
   "metadata": {},
   "source": [
    "### Groupby cost"
   ]
  },
  {
   "cell_type": "code",
   "execution_count": 19,
   "metadata": {
    "collapsed": false
   },
   "outputs": [
    {
     "name": "stdout",
     "output_type": "stream",
     "text": [
      "[########################################] | 100% Completed |  1min 12.2s\n"
     ]
    },
    {
     "data": {
      "text/plain": [
       "name\n",
       "Alice      1791624\n",
       "Bob        1790435\n",
       "Charlie    1790024\n",
       "Dan        1791553\n",
       "Edith      1790820\n",
       "Name: id, dtype: int64"
      ]
     },
     "execution_count": 19,
     "metadata": {},
     "output_type": "execute_result"
    }
   ],
   "source": [
    "csv.groupby('name').id.count().compute().head()"
   ]
  },
  {
   "cell_type": "code",
   "execution_count": 20,
   "metadata": {
    "collapsed": false
   },
   "outputs": [
    {
     "name": "stdout",
     "output_type": "stream",
     "text": [
      "[########################################] | 100% Completed | 19.8s\n"
     ]
    },
    {
     "data": {
      "text/plain": [
       "name\n",
       "Alice      1791624\n",
       "Bob        1790435\n",
       "Charlie    1790024\n",
       "Dan        1791553\n",
       "Edith      1790820\n",
       "Name: id, dtype: int64"
      ]
     },
     "execution_count": 20,
     "metadata": {},
     "output_type": "execute_result"
    }
   ],
   "source": [
    "hdf.groupby('name').id.count().compute().head()"
   ]
  },
  {
   "cell_type": "code",
   "execution_count": 21,
   "metadata": {
    "collapsed": false
   },
   "outputs": [
    {
     "name": "stdout",
     "output_type": "stream",
     "text": [
      "[########################################] | 100% Completed | 50.6s\n"
     ]
    },
    {
     "data": {
      "text/plain": [
       "name\n",
       "Alice      1791624\n",
       "Bob        1790435\n",
       "Charlie    1790024\n",
       "Dan        1791553\n",
       "Edith      1790820\n",
       "Name: id, dtype: int64"
      ]
     },
     "execution_count": 21,
     "metadata": {},
     "output_type": "execute_result"
    }
   ],
   "source": [
    "castra.groupby('name').id.count().compute().head()"
   ]
  }
 ],
 "metadata": {
  "kernelspec": {
   "display_name": "Python 2",
   "language": "python",
   "name": "python2"
  },
  "language_info": {
   "codemirror_mode": {
    "name": "ipython",
    "version": 2
   },
   "file_extension": ".py",
   "mimetype": "text/x-python",
   "name": "python",
   "nbconvert_exporter": "python",
   "pygments_lexer": "ipython2",
   "version": "2.7.10"
  }
 },
 "nbformat": 4,
 "nbformat_minor": 0
}
